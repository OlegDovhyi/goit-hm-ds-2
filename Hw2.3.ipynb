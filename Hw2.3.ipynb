{
 "cells": [
  {
   "cell_type": "code",
   "execution_count": 1,
   "id": "10172192-0d57-46e9-9ee8-38cf7016681e",
   "metadata": {},
   "outputs": [
    {
     "name": "stderr",
     "output_type": "stream",
     "text": [
      "C:\\Users\\olegd\\AppData\\Local\\Temp\\ipykernel_6904\\193522826.py:3: DeprecationWarning: \n",
      "Pyarrow will become a required dependency of pandas in the next major release of pandas (pandas 3.0),\n",
      "(to allow more performant data types, such as the Arrow string type, and better interoperability with other libraries)\n",
      "but was not found to be installed on your system.\n",
      "If this would cause problems for you,\n",
      "please provide us feedback at https://github.com/pandas-dev/pandas/issues/54466\n",
      "        \n",
      "  import pandas as pd\n"
     ]
    }
   ],
   "source": [
    "%matplotlib inline\n",
    "import matplotlib.pyplot as plt\n",
    "import pandas as pd\n",
    "import seaborn as sns"
   ]
  },
  {
   "cell_type": "code",
   "execution_count": 2,
   "id": "b1cbc236-3a41-439a-9044-75ed62d81704",
   "metadata": {},
   "outputs": [],
   "source": [
    "df = pd.read_csv(\"bestsellers with categories.csv\")\n"
   ]
  },
  {
   "cell_type": "code",
   "execution_count": 3,
   "id": "0bb42982-7dcf-4d75-a9db-0e1abecc7184",
   "metadata": {},
   "outputs": [
    {
     "name": "stdout",
     "output_type": "stream",
     "text": [
      "                                                Name  \\\n",
      "0                      10-Day Green Smoothie Cleanse   \n",
      "1                                  11/22/63: A Novel   \n",
      "2            12 Rules for Life: An Antidote to Chaos   \n",
      "3                             1984 (Signet Classics)   \n",
      "4  5,000 Awesome Facts (About Everything!) (Natio...   \n",
      "\n",
      "                     Author  User Rating  Reviews  Price  Year        Genre  \n",
      "0                  JJ Smith          4.7    17350      8  2016  Non Fiction  \n",
      "1              Stephen King          4.6     2052     22  2011      Fiction  \n",
      "2        Jordan B. Peterson          4.7    18979     15  2018  Non Fiction  \n",
      "3             George Orwell          4.7    21424      6  2017      Fiction  \n",
      "4  National Geographic Kids          4.8     7665     12  2019  Non Fiction  \n"
     ]
    }
   ],
   "source": [
    "print(df.head())"
   ]
  },
  {
   "cell_type": "code",
   "execution_count": null,
   "id": "2a4463c3-430d-4ec9-8ed1-23c5a0ca66aa",
   "metadata": {},
   "outputs": [],
   "source": []
  },
  {
   "cell_type": "code",
   "execution_count": 4,
   "id": "191db933-56f0-431e-8c67-035a286e256e",
   "metadata": {},
   "outputs": [
    {
     "data": {
      "text/plain": [
       "(550, 7)"
      ]
     },
     "execution_count": 4,
     "metadata": {},
     "output_type": "execute_result"
    }
   ],
   "source": [
    "df.shape\n"
   ]
  },
  {
   "cell_type": "markdown",
   "id": "f9f2cfc9-517e-47da-95e4-22347ea8ecff",
   "metadata": {},
   "source": [
    "Відповідь: Про скільки книг зберігає дані датасет?550"
   ]
  },
  {
   "cell_type": "code",
   "execution_count": 6,
   "id": "bf191501-10a6-4095-bd66-9e7a0c69672a",
   "metadata": {},
   "outputs": [],
   "source": [
    "df.columns = ['name', 'author', 'user_rating', 'reviews', 'price', 'year', 'genre']\n"
   ]
  },
  {
   "cell_type": "markdown",
   "id": "f62636b5-4180-4a58-ab8f-4a4466f4c8b0",
   "metadata": {},
   "source": [
    "\n",
    "Первинне дослідження даних"
   ]
  },
  {
   "cell_type": "code",
   "execution_count": 7,
   "id": "e0feba3c-152b-465d-982b-ba72dd289eeb",
   "metadata": {},
   "outputs": [
    {
     "name": "stdout",
     "output_type": "stream",
     "text": [
      "Missing values:\n",
      " name           0.0\n",
      "author         0.0\n",
      "user_rating    0.0\n",
      "reviews        0.0\n",
      "price          0.0\n",
      "year           0.0\n",
      "genre          0.0\n",
      "dtype: float64\n"
     ]
    }
   ],
   "source": [
    "print(\"Missing values:\\n\", df.isnull().sum() / len(df))\n"
   ]
  },
  {
   "cell_type": "markdown",
   "id": "19091430-6eb2-466e-9609-6ead59c29c63",
   "metadata": {},
   "source": [
    "Чи є в якихось змінних пропуски? Відповідь: Ні\n"
   ]
  },
  {
   "cell_type": "code",
   "execution_count": 8,
   "id": "684f401b-81fe-4167-9128-c90a80ab057d",
   "metadata": {},
   "outputs": [
    {
     "name": "stdout",
     "output_type": "stream",
     "text": [
      "['Non Fiction' 'Fiction']\n"
     ]
    }
   ],
   "source": [
    "print(df['genre'].unique())\n"
   ]
  },
  {
   "cell_type": "markdown",
   "id": "aeab822e-73d4-4d97-bb31-ed32bb15cf40",
   "metadata": {},
   "source": [
    "Які є унікальні жанри? Відповідь: Non Fiction та Fiction\r\n"
   ]
  },
  {
   "cell_type": "code",
   "execution_count": 9,
   "id": "faa9751e-0385-4872-a357-1b712fed4034",
   "metadata": {},
   "outputs": [
    {
     "data": {
      "image/png": "[encoded data removed]",
      "text/plain": [
       "<Figure size 640x480 with 1 Axes>"
      ]
     },
     "metadata": {},
     "output_type": "display_data"
    }
   ],
   "source": [
    "plt.hist(df['price'], bins=100, color='skyblue', edgecolor='black')\r\n",
    "\r\n",
    "plt.title('Розподіл цін на книги', fontsize=16)\r\n",
    "plt.xlabel('Ціна', fontsize=14)\r\n",
    "plt.ylabel('Частота', fontsize=14)\r\n",
    "\r\n",
    "plt.show()"
   ]
  },
  {
   "cell_type": "code",
   "execution_count": 10,
   "id": "1deaaa8e-5c4f-459b-a317-01225afbc841",
   "metadata": {},
   "outputs": [
    {
     "name": "stdout",
     "output_type": "stream",
     "text": [
      "Максимальна ціна? Відповідь: 105\n",
      "Мінімальна ціна? Відповідь: 0\n",
      "Середня ціна? Відповідь: 13.1\n",
      "Медіанна ціна? Відповідь: 11.0\n"
     ]
    }
   ],
   "source": [
    "max_price = df['price'].max()\n",
    "min_price = df['price'].min()\n",
    "mean_price = df['price'].mean()\n",
    "median_price = df['price'].median()\n",
    "\n",
    "print(f\"Максимальна ціна? Відповідь: {max_price}\")\n",
    "print(f\"Мінімальна ціна? Відповідь: {min_price}\")\n",
    "print(f\"Середня ціна? Відповідь: {mean_price}\")\n",
    "print(f\"Медіанна ціна? Відповідь: {median_price}\")"
   ]
  },
  {
   "cell_type": "markdown",
   "id": "96ac4092-540e-4c3c-b508-c9374f229d73",
   "metadata": {},
   "source": [
    "Пошук та сортування даних\n"
   ]
  },
  {
   "cell_type": "code",
   "execution_count": 11,
   "id": "38823e08-b05f-4563-821e-4b9f0376c08c",
   "metadata": {},
   "outputs": [
    {
     "name": "stdout",
     "output_type": "stream",
     "text": [
      "Який рейтинг у датасеті найвищий? Відповідь: 4.9\n",
      "Скільки книг мають такий рейтинг? Відповідь: 52\n",
      "Яка книга має найбільше відгуків? Відповідь: Where the Crawdads Sing\n",
      "З тих книг, що потрапили до Топ-50 у 2015 році, яка книга найдорожча? Відповідь: Publication Manual of the American Psychological Association, 6th Edition\n",
      "Скільки книг жанру Fiction потрапили до Топ-50 у 2010 році? Відповідь: 20\n",
      "Скільки книг з рейтингом 4.9 потрапило до рейтингу у 2010 та 2011 роках? Відповідь: 1\n",
      "Яка книга остання у відсортованому списку? Відповідь: Old School (Diary of a Wimpy Kid #10)\n"
     ]
    }
   ],
   "source": [
    "max_rating = df['user_rating'].max()\n",
    "print(f\"Який рейтинг у датасеті найвищий? Відповідь: {max_rating}\")\n",
    "\n",
    "num_books_with_max_rating = df[df['user_rating'] == max_rating].shape[0]\n",
    "print(f\"Скільки книг мають такий рейтинг? Відповідь: {num_books_with_max_rating}\")\n",
    "\n",
    "max_reviews_book = df[df['reviews'] == df['reviews'].max()]['name'].values[0]\n",
    "print(f\"Яка книга має найбільше відгуків? Відповідь: {max_reviews_book}\")\n",
    "\n",
    "top_50_2015_books = df[df['year'] == 2015]\n",
    "most_expensive_book_2015 = top_50_2015_books[top_50_2015_books['price'] == top_50_2015_books['price'].max()]['name'].values[0]\n",
    "print(f\"З тих книг, що потрапили до Топ-50 у 2015 році, яка книга найдорожча? Відповідь: {most_expensive_book_2015}\")\n",
    "\n",
    "num_fiction_books_2010 = df[(df['year'] == 2010) & (df['genre'] == 'Fiction')].shape[0]\n",
    "print(f\"Скільки книг жанру Fiction потрапили до Топ-50 у 2010 році? Відповідь: {num_fiction_books_2010}\")\n",
    "\n",
    "num_books_with_rating_4_9 = df[(df['user_rating'] == 4.9) & ((df['year'] == 2010) | (df['year'] == 2011))].shape[0]\n",
    "print(f\"Скільки книг з рейтингом 4.9 потрапило до рейтингу у 2010 та 2011 роках? Відповідь: {num_books_with_rating_4_9}\")\n",
    "\n",
    "sorted_books = df[(df['year'] == 2015) & (df['price'] < 8)].sort_values(by='price')\n",
    "last_book_in_sorted_list = sorted_books.tail(1)['name'].values[0]\n",
    "print(f\"Яка книга остання у відсортованому списку? Відповідь: {last_book_in_sorted_list}\")"
   ]
  },
  {
   "cell_type": "markdown",
   "id": "a6f3ebbd-2134-4e1d-b817-8b18cd91cee3",
   "metadata": {},
   "source": [
    "Агрегування даних та з'єднання таблиць\n"
   ]
  },
  {
   "cell_type": "code",
   "execution_count": 12,
   "id": "d651a6ec-91c3-4264-82bc-60abe54c4e4f",
   "metadata": {},
   "outputs": [
    {
     "name": "stdout",
     "output_type": "stream",
     "text": [
      "Мінімальна ціна для жанру Fiction: Відповідь: 0\n",
      "Максимальна ціна для жанру Fiction: Відповідь: 82\n",
      "Мінімальна ціна для жанру Non Fiction: Відповідь: 0\n",
      "Максимальна ціна для жанру Non Fiction: Відповідь: 105\n"
     ]
    }
   ],
   "source": [
    "grouped_data = df.groupby('genre')\n",
    "aggregated_data = grouped_data.agg({'price': ['min', 'max']})\n",
    "\n",
    "min_price_fiction = aggregated_data.loc['Fiction', ('price', 'min')]\n",
    "max_price_fiction = aggregated_data.loc['Fiction', ('price', 'max')]\n",
    "min_price_non_fiction = aggregated_data.loc['Non Fiction', ('price', 'min')]\n",
    "max_price_non_fiction = aggregated_data.loc['Non Fiction', ('price', 'max')]\n",
    "\n",
    "print(f\"Мінімальна ціна для жанру Fiction: Відповідь: {min_price_fiction}\")\n",
    "print(f\"Максимальна ціна для жанру Fiction: Відповідь: {max_price_fiction}\")\n",
    "print(f\"Мінімальна ціна для жанру Non Fiction: Відповідь: {min_price_non_fiction}\")\n",
    "print(f\"Максимальна ціна для жанру Non Fiction: Відповідь: {max_price_non_fiction}\")"
   ]
  },
  {
   "cell_type": "code",
   "execution_count": 13,
   "id": "4f6c3d4f-86af-4dcc-a2b9-677d4691ae26",
   "metadata": {},
   "outputs": [
    {
     "name": "stdout",
     "output_type": "stream",
     "text": [
      "Якої розмірності вийшла таблиця? Відповідь: 248 рядків, 2 стовпці\n",
      "Який автор має найбільше книг? Відповідь: Jeff Kinney\n",
      "Скільки книг цього автора? Відповідь: 12\n"
     ]
    }
   ],
   "source": [
    "author_book_counts = df.groupby('author').agg({'name': 'count'}).reset_index()\n",
    "author_book_counts.columns = ['author', 'book_count']\n",
    "number_row = author_book_counts.shape[0]\n",
    "number_col = author_book_counts.shape[1]\n",
    "author_max_books = author_book_counts[author_book_counts['book_count'] == author_book_counts['book_count'].max()]['author'].values[0]\n",
    "max_books = author_book_counts['book_count'].max()\n",
    "print(f\"Якої розмірності вийшла таблиця? Відповідь: {number_row} рядків, {number_col} стовпці\")\n",
    "print(f\"Який автор має найбільше книг? Відповідь: {author_max_books}\")\n",
    "print(f\"Скільки книг цього автора? Відповідь: {max_books}\")"
   ]
  },
  {
   "cell_type": "code",
   "execution_count": 14,
   "id": "cef88fba-1bb5-4e47-af58-60b0ee776f9c",
   "metadata": {},
   "outputs": [
    {
     "name": "stdout",
     "output_type": "stream",
     "text": [
      "У якого автора середній рейтинг мінімальний? Відповідь: Donna Tartt\n",
      "Який у цього автора середній рейтинг? Відповідь: 3.9\n"
     ]
    }
   ],
   "source": [
    "author_avg_rating = df.groupby('author').agg({'user_rating': 'mean'}).reset_index()\n",
    "author_avg_rating.columns = ['author', 'avg_rating']\n",
    "\n",
    "author_min_rating = author_avg_rating[author_avg_rating['avg_rating'] == author_avg_rating['avg_rating'].min()]['author'].values[0]\n",
    "min_rating = author_avg_rating['avg_rating'].min()\n",
    "\n",
    "print(f\"У якого автора середній рейтинг мінімальний? Відповідь: {author_min_rating}\")\n",
    "print(f\"Який у цього автора середній рейтинг? Відповідь: {min_rating}\")"
   ]
  },
  {
   "cell_type": "code",
   "execution_count": 15,
   "id": "a2f3852d-c737-4129-9c17-3615e26bf890",
   "metadata": {},
   "outputs": [
    {
     "name": "stdout",
     "output_type": "stream",
     "text": [
      "Який автор перший у списку? Відповідь: Muriel Barbery\n"
     ]
    },
    {
     "name": "stderr",
     "output_type": "stream",
     "text": [
      "C:\\Users\\olegd\\AppData\\Local\\Temp\\ipykernel_6904\\2527926618.py:6: FutureWarning: Series.__getitem__ treating keys as positions is deprecated. In a future version, integer keys will always be treated as labels (consistent with DataFrame behavior). To access a value by position, use `ser.iloc[pos]`\n",
      "  print(f\"Який автор перший у списку? Відповідь: {first_author[0]}\")\n"
     ]
    }
   ],
   "source": [
    "merged_data = pd.concat([author_book_counts, author_avg_rating], axis=1)\n",
    "\n",
    "sorted_data = merged_data.sort_values(by=['book_count', 'avg_rating'])\n",
    "first_author = sorted_data.iloc[0]['author']\n",
    "\n",
    "print(f\"Який автор перший у списку? Відповідь: {first_author[0]}\")"
   ]
  },
  {
   "cell_type": "markdown",
   "id": "985da89e-02ba-4a8c-bfbb-0a7ca75709ec",
   "metadata": {},
   "source": [
    "Діаграма середнього рейтингу за жанрами\r\n"
   ]
  },
  {
   "cell_type": "code",
   "execution_count": 16,
   "id": "0f970f1f-f0ad-4b23-ba9f-539d4cb88640",
   "metadata": {},
   "outputs": [
    {
     "name": "stderr",
     "output_type": "stream",
     "text": [
      "C:\\Users\\olegd\\AppData\\Local\\Temp\\ipykernel_6904\\1770102248.py:1: FutureWarning: \n",
      "\n",
      "Passing `palette` without assigning `hue` is deprecated and will be removed in v0.14.0. Assign the `x` variable to `hue` and set `legend=False` for the same effect.\n",
      "\n",
      "  sns.barplot(x='genre', y='user_rating', data=df, errorbar=None, palette='viridis')\n"
     ]
    },
    {
     "data": {
      "image/png": "[encoded data removed]",
      "text/plain": [
       "<Figure size 640x480 with 1 Axes>"
      ]
     },
     "metadata": {},
     "output_type": "display_data"
    }
   ],
   "source": [
    "sns.barplot(x='genre', y='user_rating', data=df, errorbar=None, palette='viridis')\n",
    "plt.title('Середній рейтинг за жанром')\n",
    "plt.xlabel('Жанр')\n",
    "plt.ylabel('Середній рейтинг')\n",
    "plt.show()"
   ]
  },
  {
   "cell_type": "markdown",
   "id": "fd5fd6be-534c-48cd-b7fa-12ae0c72a8e6",
   "metadata": {},
   "source": [
    "Гістограма розподілу рейтингів\r\n"
   ]
  },
  {
   "cell_type": "code",
   "execution_count": 17,
   "id": "aa918ac1-93a3-404a-9123-9537adfd441a",
   "metadata": {},
   "outputs": [
    {
     "data": {
      "image/png": "[encoded data removed]",
      "text/plain": [
       "<Figure size 640x480 with 1 Axes>"
      ]
     },
     "metadata": {},
     "output_type": "display_data"
    }
   ],
   "source": [
    "df['user_rating'].hist(bins=20, color='blue', edgecolor='yellow')\n",
    "plt.title('Розподіл рейтингів')\n",
    "plt.xlabel('Рейтинг')\n",
    "plt.ylabel('Кількість книг')\n",
    "plt.show()"
   ]
  },
  {
   "cell_type": "code",
   "execution_count": null,
   "id": "f52898f2-5fa3-4063-98c2-25a6ef25dc3e",
   "metadata": {},
   "outputs": [],
   "source": []
  }
 ],
 "metadata": {
  "kernelspec": {
   "display_name": "Python 3 (ipykernel)",
   "language": "python",
   "name": "python3"
  },
  "language_info": {
   "codemirror_mode": {
    "name": "ipython",
    "version": 3
   },
   "file_extension": ".py",
   "mimetype": "text/x-python",
   "name": "python",
   "nbconvert_exporter": "python",
   "pygments_lexer": "ipython3",
   "version": "3.10.8"
  }
 },
 "nbformat": 4,
 "nbformat_minor": 5
}
